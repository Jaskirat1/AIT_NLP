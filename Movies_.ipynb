{
  "nbformat": 4,
  "nbformat_minor": 0,
  "metadata": {
    "colab": {
      "provenance": [],
      "authorship_tag": "ABX9TyPonyDrXsU9bHf7zSQs8EEc",
      "include_colab_link": true
    },
    "kernelspec": {
      "name": "python3",
      "display_name": "Python 3"
    },
    "language_info": {
      "name": "python"
    }
  },
  "cells": [
    {
      "cell_type": "markdown",
      "metadata": {
        "id": "view-in-github",
        "colab_type": "text"
      },
      "source": [
        "<a href=\"https://colab.research.google.com/github/Jaskirat1/AIT_NLP/blob/main/Movies_.ipynb\" target=\"_parent\"><img src=\"https://colab.research.google.com/assets/colab-badge.svg\" alt=\"Open In Colab\"/></a>"
      ]
    },
    {
      "cell_type": "code",
      "execution_count": 1,
      "metadata": {
        "id": "B29vGVnNQGh1"
      },
      "outputs": [],
      "source": [
        "import numpy as np\n",
        "import pandas as pd\n",
        "import seaborn as sns\n",
        "import matplotlib.pyplot as plt"
      ]
    },
    {
      "cell_type": "code",
      "source": [
        "df = pd.read_csv('movies.csv')"
      ],
      "metadata": {
        "id": "VeDdUkxOR5U5"
      },
      "execution_count": 5,
      "outputs": []
    },
    {
      "cell_type": "code",
      "source": [
        "df.head()"
      ],
      "metadata": {
        "colab": {
          "base_uri": "https://localhost:8080/",
          "height": 838
        },
        "id": "BGwSgTpfTpwy",
        "outputId": "b08fef51-5536-48b9-baba-b561b69b3238"
      },
      "execution_count": 6,
      "outputs": [
        {
          "output_type": "execute_result",
          "data": {
            "text/plain": [
              "   index       budget                                    genres  \\\n",
              "0    0.0  237000000.0  Action Adventure Fantasy Science Fiction   \n",
              "1    1.0  300000000.0                  Adventure Fantasy Action   \n",
              "2    2.0  245000000.0                    Action Adventure Crime   \n",
              "3    3.0  250000000.0               Action Crime Drama Thriller   \n",
              "4    4.0  260000000.0          Action Adventure Science Fiction   \n",
              "\n",
              "                                       homepage        id  \\\n",
              "0                   http://www.avatarmovie.com/   19995.0   \n",
              "1  http://disney.go.com/disneypictures/pirates/     285.0   \n",
              "2   http://www.sonypictures.com/movies/spectre/  206647.0   \n",
              "3            http://www.thedarkknightrises.com/   49026.0   \n",
              "4          http://movies.disney.com/john-carter   49529.0   \n",
              "\n",
              "                                            keywords original_language  \\\n",
              "0  culture clash future space war space colony so...                en   \n",
              "1  ocean drug abuse exotic island east india trad...                en   \n",
              "2         spy based on novel secret agent sequel mi6                en   \n",
              "3  dc comics crime fighter terrorist secret ident...                en   \n",
              "4  based on novel mars medallion space travel pri...                en   \n",
              "\n",
              "                             original_title  \\\n",
              "0                                    Avatar   \n",
              "1  Pirates of the Caribbean: At World's End   \n",
              "2                                   Spectre   \n",
              "3                     The Dark Knight Rises   \n",
              "4                               John Carter   \n",
              "\n",
              "                                            overview  popularity  ...  \\\n",
              "0  In the 22nd century, a paraplegic Marine is di...  150.437577  ...   \n",
              "1  Captain Barbossa, long believed to be dead, ha...  139.082615  ...   \n",
              "2  A cryptic message from Bond’s past sends him o...  107.376788  ...   \n",
              "3  Following the death of District Attorney Harve...  112.312950  ...   \n",
              "4  John Carter is a war-weary, former military ca...   43.926995  ...   \n",
              "\n",
              "                                    spoken_languages    status  \\\n",
              "0  [{\"iso_639_1\": \"en\", \"name\": \"English\"}, {\"iso...  Released   \n",
              "1           [{\"iso_639_1\": \"en\", \"name\": \"English\"}]  Released   \n",
              "2  [{\"iso_639_1\": \"fr\", \"name\": \"Fran\\u00e7ais\"},...  Released   \n",
              "3           [{\"iso_639_1\": \"en\", \"name\": \"English\"}]  Released   \n",
              "4           [{\"iso_639_1\": \"en\", \"name\": \"English\"}]  Released   \n",
              "\n",
              "                                          tagline  \\\n",
              "0                     Enter the World of Pandora.   \n",
              "1  At the end of the world, the adventure begins.   \n",
              "2                           A Plan No One Escapes   \n",
              "3                                 The Legend Ends   \n",
              "4            Lost in our world, found in another.   \n",
              "\n",
              "                                      title  vote_average vote_count  \\\n",
              "0                                    Avatar           7.2    11800.0   \n",
              "1  Pirates of the Caribbean: At World's End           6.9     4500.0   \n",
              "2                                   Spectre           6.3     4466.0   \n",
              "3                     The Dark Knight Rises           7.6     9106.0   \n",
              "4                               John Carter           6.1     2124.0   \n",
              "\n",
              "                                                cast  \\\n",
              "0  Sam Worthington Zoe Saldana Sigourney Weaver S...   \n",
              "1  Johnny Depp Orlando Bloom Keira Knightley Stel...   \n",
              "2  Daniel Craig Christoph Waltz L\\u00e9a Seydoux ...   \n",
              "3  Christian Bale Michael Caine Gary Oldman Anne ...   \n",
              "4  Taylor Kitsch Lynn Collins Samantha Morton Wil...   \n",
              "\n",
              "                                                crew           director  \\\n",
              "0  [{'name': 'Stephen E. Rivkin', 'gender': 0, 'd...      James Cameron   \n",
              "1  [{'name': 'Dariusz Wolski', 'gender': 2, 'depa...     Gore Verbinski   \n",
              "2  [{'name': 'Thomas Newman', 'gender': 2, 'depar...         Sam Mendes   \n",
              "3  [{'name': 'Hans Zimmer', 'gender': 2, 'departm...  Christopher Nolan   \n",
              "4  [{'name': 'Andrew Stanton', 'gender': 2, 'depa...     Andrew Stanton   \n",
              "\n",
              "                                   combined_features  \n",
              "0  Action Adventure Fantasy Science Fiction cultu...  \n",
              "1  Adventure Fantasy Action ocean drug abuse exot...  \n",
              "2  Action Adventure Crime spy based on novel secr...  \n",
              "3  Action Crime Drama Thriller dc comics crime fi...  \n",
              "4  Action Adventure Science Fiction based on nove...  \n",
              "\n",
              "[5 rows x 25 columns]"
            ],
            "text/html": [
              "\n",
              "  <div id=\"df-08e6a799-9a5b-4f44-b2f4-7caa5e1ddcb9\">\n",
              "    <div class=\"colab-df-container\">\n",
              "      <div>\n",
              "<style scoped>\n",
              "    .dataframe tbody tr th:only-of-type {\n",
              "        vertical-align: middle;\n",
              "    }\n",
              "\n",
              "    .dataframe tbody tr th {\n",
              "        vertical-align: top;\n",
              "    }\n",
              "\n",
              "    .dataframe thead th {\n",
              "        text-align: right;\n",
              "    }\n",
              "</style>\n",
              "<table border=\"1\" class=\"dataframe\">\n",
              "  <thead>\n",
              "    <tr style=\"text-align: right;\">\n",
              "      <th></th>\n",
              "      <th>index</th>\n",
              "      <th>budget</th>\n",
              "      <th>genres</th>\n",
              "      <th>homepage</th>\n",
              "      <th>id</th>\n",
              "      <th>keywords</th>\n",
              "      <th>original_language</th>\n",
              "      <th>original_title</th>\n",
              "      <th>overview</th>\n",
              "      <th>popularity</th>\n",
              "      <th>...</th>\n",
              "      <th>spoken_languages</th>\n",
              "      <th>status</th>\n",
              "      <th>tagline</th>\n",
              "      <th>title</th>\n",
              "      <th>vote_average</th>\n",
              "      <th>vote_count</th>\n",
              "      <th>cast</th>\n",
              "      <th>crew</th>\n",
              "      <th>director</th>\n",
              "      <th>combined_features</th>\n",
              "    </tr>\n",
              "  </thead>\n",
              "  <tbody>\n",
              "    <tr>\n",
              "      <th>0</th>\n",
              "      <td>0.0</td>\n",
              "      <td>237000000.0</td>\n",
              "      <td>Action Adventure Fantasy Science Fiction</td>\n",
              "      <td>http://www.avatarmovie.com/</td>\n",
              "      <td>19995.0</td>\n",
              "      <td>culture clash future space war space colony so...</td>\n",
              "      <td>en</td>\n",
              "      <td>Avatar</td>\n",
              "      <td>In the 22nd century, a paraplegic Marine is di...</td>\n",
              "      <td>150.437577</td>\n",
              "      <td>...</td>\n",
              "      <td>[{\"iso_639_1\": \"en\", \"name\": \"English\"}, {\"iso...</td>\n",
              "      <td>Released</td>\n",
              "      <td>Enter the World of Pandora.</td>\n",
              "      <td>Avatar</td>\n",
              "      <td>7.2</td>\n",
              "      <td>11800.0</td>\n",
              "      <td>Sam Worthington Zoe Saldana Sigourney Weaver S...</td>\n",
              "      <td>[{'name': 'Stephen E. Rivkin', 'gender': 0, 'd...</td>\n",
              "      <td>James Cameron</td>\n",
              "      <td>Action Adventure Fantasy Science Fiction cultu...</td>\n",
              "    </tr>\n",
              "    <tr>\n",
              "      <th>1</th>\n",
              "      <td>1.0</td>\n",
              "      <td>300000000.0</td>\n",
              "      <td>Adventure Fantasy Action</td>\n",
              "      <td>http://disney.go.com/disneypictures/pirates/</td>\n",
              "      <td>285.0</td>\n",
              "      <td>ocean drug abuse exotic island east india trad...</td>\n",
              "      <td>en</td>\n",
              "      <td>Pirates of the Caribbean: At World's End</td>\n",
              "      <td>Captain Barbossa, long believed to be dead, ha...</td>\n",
              "      <td>139.082615</td>\n",
              "      <td>...</td>\n",
              "      <td>[{\"iso_639_1\": \"en\", \"name\": \"English\"}]</td>\n",
              "      <td>Released</td>\n",
              "      <td>At the end of the world, the adventure begins.</td>\n",
              "      <td>Pirates of the Caribbean: At World's End</td>\n",
              "      <td>6.9</td>\n",
              "      <td>4500.0</td>\n",
              "      <td>Johnny Depp Orlando Bloom Keira Knightley Stel...</td>\n",
              "      <td>[{'name': 'Dariusz Wolski', 'gender': 2, 'depa...</td>\n",
              "      <td>Gore Verbinski</td>\n",
              "      <td>Adventure Fantasy Action ocean drug abuse exot...</td>\n",
              "    </tr>\n",
              "    <tr>\n",
              "      <th>2</th>\n",
              "      <td>2.0</td>\n",
              "      <td>245000000.0</td>\n",
              "      <td>Action Adventure Crime</td>\n",
              "      <td>http://www.sonypictures.com/movies/spectre/</td>\n",
              "      <td>206647.0</td>\n",
              "      <td>spy based on novel secret agent sequel mi6</td>\n",
              "      <td>en</td>\n",
              "      <td>Spectre</td>\n",
              "      <td>A cryptic message from Bond’s past sends him o...</td>\n",
              "      <td>107.376788</td>\n",
              "      <td>...</td>\n",
              "      <td>[{\"iso_639_1\": \"fr\", \"name\": \"Fran\\u00e7ais\"},...</td>\n",
              "      <td>Released</td>\n",
              "      <td>A Plan No One Escapes</td>\n",
              "      <td>Spectre</td>\n",
              "      <td>6.3</td>\n",
              "      <td>4466.0</td>\n",
              "      <td>Daniel Craig Christoph Waltz L\\u00e9a Seydoux ...</td>\n",
              "      <td>[{'name': 'Thomas Newman', 'gender': 2, 'depar...</td>\n",
              "      <td>Sam Mendes</td>\n",
              "      <td>Action Adventure Crime spy based on novel secr...</td>\n",
              "    </tr>\n",
              "    <tr>\n",
              "      <th>3</th>\n",
              "      <td>3.0</td>\n",
              "      <td>250000000.0</td>\n",
              "      <td>Action Crime Drama Thriller</td>\n",
              "      <td>http://www.thedarkknightrises.com/</td>\n",
              "      <td>49026.0</td>\n",
              "      <td>dc comics crime fighter terrorist secret ident...</td>\n",
              "      <td>en</td>\n",
              "      <td>The Dark Knight Rises</td>\n",
              "      <td>Following the death of District Attorney Harve...</td>\n",
              "      <td>112.312950</td>\n",
              "      <td>...</td>\n",
              "      <td>[{\"iso_639_1\": \"en\", \"name\": \"English\"}]</td>\n",
              "      <td>Released</td>\n",
              "      <td>The Legend Ends</td>\n",
              "      <td>The Dark Knight Rises</td>\n",
              "      <td>7.6</td>\n",
              "      <td>9106.0</td>\n",
              "      <td>Christian Bale Michael Caine Gary Oldman Anne ...</td>\n",
              "      <td>[{'name': 'Hans Zimmer', 'gender': 2, 'departm...</td>\n",
              "      <td>Christopher Nolan</td>\n",
              "      <td>Action Crime Drama Thriller dc comics crime fi...</td>\n",
              "    </tr>\n",
              "    <tr>\n",
              "      <th>4</th>\n",
              "      <td>4.0</td>\n",
              "      <td>260000000.0</td>\n",
              "      <td>Action Adventure Science Fiction</td>\n",
              "      <td>http://movies.disney.com/john-carter</td>\n",
              "      <td>49529.0</td>\n",
              "      <td>based on novel mars medallion space travel pri...</td>\n",
              "      <td>en</td>\n",
              "      <td>John Carter</td>\n",
              "      <td>John Carter is a war-weary, former military ca...</td>\n",
              "      <td>43.926995</td>\n",
              "      <td>...</td>\n",
              "      <td>[{\"iso_639_1\": \"en\", \"name\": \"English\"}]</td>\n",
              "      <td>Released</td>\n",
              "      <td>Lost in our world, found in another.</td>\n",
              "      <td>John Carter</td>\n",
              "      <td>6.1</td>\n",
              "      <td>2124.0</td>\n",
              "      <td>Taylor Kitsch Lynn Collins Samantha Morton Wil...</td>\n",
              "      <td>[{'name': 'Andrew Stanton', 'gender': 2, 'depa...</td>\n",
              "      <td>Andrew Stanton</td>\n",
              "      <td>Action Adventure Science Fiction based on nove...</td>\n",
              "    </tr>\n",
              "  </tbody>\n",
              "</table>\n",
              "<p>5 rows × 25 columns</p>\n",
              "</div>\n",
              "      <button class=\"colab-df-convert\" onclick=\"convertToInteractive('df-08e6a799-9a5b-4f44-b2f4-7caa5e1ddcb9')\"\n",
              "              title=\"Convert this dataframe to an interactive table.\"\n",
              "              style=\"display:none;\">\n",
              "        \n",
              "  <svg xmlns=\"http://www.w3.org/2000/svg\" height=\"24px\"viewBox=\"0 0 24 24\"\n",
              "       width=\"24px\">\n",
              "    <path d=\"M0 0h24v24H0V0z\" fill=\"none\"/>\n",
              "    <path d=\"M18.56 5.44l.94 2.06.94-2.06 2.06-.94-2.06-.94-.94-2.06-.94 2.06-2.06.94zm-11 1L8.5 8.5l.94-2.06 2.06-.94-2.06-.94L8.5 2.5l-.94 2.06-2.06.94zm10 10l.94 2.06.94-2.06 2.06-.94-2.06-.94-.94-2.06-.94 2.06-2.06.94z\"/><path d=\"M17.41 7.96l-1.37-1.37c-.4-.4-.92-.59-1.43-.59-.52 0-1.04.2-1.43.59L10.3 9.45l-7.72 7.72c-.78.78-.78 2.05 0 2.83L4 21.41c.39.39.9.59 1.41.59.51 0 1.02-.2 1.41-.59l7.78-7.78 2.81-2.81c.8-.78.8-2.07 0-2.86zM5.41 20L4 18.59l7.72-7.72 1.47 1.35L5.41 20z\"/>\n",
              "  </svg>\n",
              "      </button>\n",
              "      \n",
              "  <style>\n",
              "    .colab-df-container {\n",
              "      display:flex;\n",
              "      flex-wrap:wrap;\n",
              "      gap: 12px;\n",
              "    }\n",
              "\n",
              "    .colab-df-convert {\n",
              "      background-color: #E8F0FE;\n",
              "      border: none;\n",
              "      border-radius: 50%;\n",
              "      cursor: pointer;\n",
              "      display: none;\n",
              "      fill: #1967D2;\n",
              "      height: 32px;\n",
              "      padding: 0 0 0 0;\n",
              "      width: 32px;\n",
              "    }\n",
              "\n",
              "    .colab-df-convert:hover {\n",
              "      background-color: #E2EBFA;\n",
              "      box-shadow: 0px 1px 2px rgba(60, 64, 67, 0.3), 0px 1px 3px 1px rgba(60, 64, 67, 0.15);\n",
              "      fill: #174EA6;\n",
              "    }\n",
              "\n",
              "    [theme=dark] .colab-df-convert {\n",
              "      background-color: #3B4455;\n",
              "      fill: #D2E3FC;\n",
              "    }\n",
              "\n",
              "    [theme=dark] .colab-df-convert:hover {\n",
              "      background-color: #434B5C;\n",
              "      box-shadow: 0px 1px 3px 1px rgba(0, 0, 0, 0.15);\n",
              "      filter: drop-shadow(0px 1px 2px rgba(0, 0, 0, 0.3));\n",
              "      fill: #FFFFFF;\n",
              "    }\n",
              "  </style>\n",
              "\n",
              "      <script>\n",
              "        const buttonEl =\n",
              "          document.querySelector('#df-08e6a799-9a5b-4f44-b2f4-7caa5e1ddcb9 button.colab-df-convert');\n",
              "        buttonEl.style.display =\n",
              "          google.colab.kernel.accessAllowed ? 'block' : 'none';\n",
              "\n",
              "        async function convertToInteractive(key) {\n",
              "          const element = document.querySelector('#df-08e6a799-9a5b-4f44-b2f4-7caa5e1ddcb9');\n",
              "          const dataTable =\n",
              "            await google.colab.kernel.invokeFunction('convertToInteractive',\n",
              "                                                     [key], {});\n",
              "          if (!dataTable) return;\n",
              "\n",
              "          const docLinkHtml = 'Like what you see? Visit the ' +\n",
              "            '<a target=\"_blank\" href=https://colab.research.google.com/notebooks/data_table.ipynb>data table notebook</a>'\n",
              "            + ' to learn more about interactive tables.';\n",
              "          element.innerHTML = '';\n",
              "          dataTable['output_type'] = 'display_data';\n",
              "          await google.colab.output.renderOutput(dataTable, element);\n",
              "          const docLink = document.createElement('div');\n",
              "          docLink.innerHTML = docLinkHtml;\n",
              "          element.appendChild(docLink);\n",
              "        }\n",
              "      </script>\n",
              "    </div>\n",
              "  </div>\n",
              "  "
            ]
          },
          "metadata": {},
          "execution_count": 6
        }
      ]
    },
    {
      "cell_type": "code",
      "source": [
        "df.info()"
      ],
      "metadata": {
        "colab": {
          "base_uri": "https://localhost:8080/"
        },
        "id": "vLsfkIuzTrR5",
        "outputId": "1a3310a5-1fdf-4fe0-e339-f601365272bf"
      },
      "execution_count": 7,
      "outputs": [
        {
          "output_type": "stream",
          "name": "stdout",
          "text": [
            "<class 'pandas.core.frame.DataFrame'>\n",
            "RangeIndex: 4805 entries, 0 to 4804\n",
            "Data columns (total 25 columns):\n",
            " #   Column                Non-Null Count  Dtype  \n",
            "---  ------                --------------  -----  \n",
            " 0   index                 4805 non-null   float64\n",
            " 1   budget                4803 non-null   float64\n",
            " 2   genres                4805 non-null   object \n",
            " 3   homepage              1712 non-null   object \n",
            " 4   id                    4803 non-null   float64\n",
            " 5   keywords              4805 non-null   object \n",
            " 6   original_language     4803 non-null   object \n",
            " 7   original_title        4803 non-null   object \n",
            " 8   overview              4800 non-null   object \n",
            " 9   popularity            4803 non-null   float64\n",
            " 10  production_companies  4803 non-null   object \n",
            " 11  production_countries  4803 non-null   object \n",
            " 12  release_date          4802 non-null   object \n",
            " 13  revenue               4803 non-null   float64\n",
            " 14  runtime               4801 non-null   float64\n",
            " 15  spoken_languages      4803 non-null   object \n",
            " 16  status                4803 non-null   object \n",
            " 17  tagline               3959 non-null   object \n",
            " 18  title                 4805 non-null   object \n",
            " 19  vote_average          4803 non-null   float64\n",
            " 20  vote_count            4803 non-null   float64\n",
            " 21  cast                  4805 non-null   object \n",
            " 22  crew                  4803 non-null   object \n",
            " 23  director              4805 non-null   object \n",
            " 24  combined_features     4805 non-null   object \n",
            "dtypes: float64(8), object(17)\n",
            "memory usage: 938.6+ KB\n"
          ]
        }
      ]
    },
    {
      "cell_type": "code",
      "source": [
        "df.isnull().sum()"
      ],
      "metadata": {
        "colab": {
          "base_uri": "https://localhost:8080/"
        },
        "id": "JToPaKJ-UjK2",
        "outputId": "5e63f3e4-df03-4422-fdf6-c351e3865172"
      },
      "execution_count": 8,
      "outputs": [
        {
          "output_type": "execute_result",
          "data": {
            "text/plain": [
              "index                      0\n",
              "budget                     2\n",
              "genres                     0\n",
              "homepage                3093\n",
              "id                         2\n",
              "keywords                   0\n",
              "original_language          2\n",
              "original_title             2\n",
              "overview                   5\n",
              "popularity                 2\n",
              "production_companies       2\n",
              "production_countries       2\n",
              "release_date               3\n",
              "revenue                    2\n",
              "runtime                    4\n",
              "spoken_languages           2\n",
              "status                     2\n",
              "tagline                  846\n",
              "title                      0\n",
              "vote_average               2\n",
              "vote_count                 2\n",
              "cast                       0\n",
              "crew                       2\n",
              "director                   0\n",
              "combined_features          0\n",
              "dtype: int64"
            ]
          },
          "metadata": {},
          "execution_count": 8
        }
      ]
    },
    {
      "cell_type": "code",
      "source": [
        "features = ['genres', 'keywords', 'cast', 'director']"
      ],
      "metadata": {
        "id": "VzvVhlNcTtc4"
      },
      "execution_count": 12,
      "outputs": []
    },
    {
      "cell_type": "code",
      "source": [
        "sns.heatmap(df.isnull())"
      ],
      "metadata": {
        "colab": {
          "base_uri": "https://localhost:8080/",
          "height": 390
        },
        "id": "EJ-um7bcT26E",
        "outputId": "c0943758-5c24-4cb6-d3bb-777cee952e69"
      },
      "execution_count": 13,
      "outputs": [
        {
          "output_type": "execute_result",
          "data": {
            "text/plain": [
              "<matplotlib.axes._subplots.AxesSubplot at 0x7f9a5a36e5d0>"
            ]
          },
          "metadata": {},
          "execution_count": 13
        },
        {
          "output_type": "display_data",
          "data": {
            "text/plain": [
              "<Figure size 432x288 with 2 Axes>"
            ],
            "image/png": "[encoded data removed]"
          },
          "metadata": {
            "needs_background": "light"
          }
        }
      ]
    },
    {
      "cell_type": "code",
      "source": [
        "df.columns"
      ],
      "metadata": {
        "colab": {
          "base_uri": "https://localhost:8080/"
        },
        "id": "8graz5-fVJJg",
        "outputId": "7057a501-17f6-4391-f00f-2df3b7a430e6"
      },
      "execution_count": 14,
      "outputs": [
        {
          "output_type": "execute_result",
          "data": {
            "text/plain": [
              "Index(['index', 'budget', 'genres', 'homepage', 'id', 'keywords',\n",
              "       'original_language', 'original_title', 'overview', 'popularity',\n",
              "       'production_companies', 'production_countries', 'release_date',\n",
              "       'revenue', 'runtime', 'spoken_languages', 'status', 'tagline', 'title',\n",
              "       'vote_average', 'vote_count', 'cast', 'crew', 'director',\n",
              "       'combined_features'],\n",
              "      dtype='object')"
            ]
          },
          "metadata": {},
          "execution_count": 14
        }
      ]
    },
    {
      "cell_type": "code",
      "source": [
        "for feature in features:\n",
        "  df[feature].fillna(' ', inplace = True)"
      ],
      "metadata": {
        "id": "lIx4c-ikT9Rs"
      },
      "execution_count": 18,
      "outputs": []
    },
    {
      "cell_type": "code",
      "source": [
        "df[feature].head()"
      ],
      "metadata": {
        "colab": {
          "base_uri": "https://localhost:8080/"
        },
        "id": "kpGf2lh1UAvB",
        "outputId": "f06eea18-b268-40a1-9e65-32457556c17a"
      },
      "execution_count": 20,
      "outputs": [
        {
          "output_type": "execute_result",
          "data": {
            "text/plain": [
              "0        James Cameron\n",
              "1       Gore Verbinski\n",
              "2           Sam Mendes\n",
              "3    Christopher Nolan\n",
              "4       Andrew Stanton\n",
              "Name: director, dtype: object"
            ]
          },
          "metadata": {},
          "execution_count": 20
        }
      ]
    },
    {
      "cell_type": "code",
      "source": [
        "def combine_features(row):\n",
        "  return row['genres'] + \" \" + row['keywords'] + \" \" + row['cast'] + \" \" + row['director']\n"
      ],
      "metadata": {
        "id": "Gr_SeWYdWPSY"
      },
      "execution_count": 22,
      "outputs": []
    },
    {
      "cell_type": "code",
      "source": [
        "df['combined_features'] = df[features].apply(combine_features, axis = 1)"
      ],
      "metadata": {
        "id": "nFGg_QkTWpsk"
      },
      "execution_count": 29,
      "outputs": []
    },
    {
      "cell_type": "code",
      "source": [
        "df.combined_features.head()"
      ],
      "metadata": {
        "colab": {
          "base_uri": "https://localhost:8080/"
        },
        "id": "GXQVWtntW8Pb",
        "outputId": "91d05430-c1fe-4c55-d623-007b75080648"
      },
      "execution_count": 30,
      "outputs": [
        {
          "output_type": "execute_result",
          "data": {
            "text/plain": [
              "0    Action Adventure Fantasy Science Fiction cultu...\n",
              "1    Adventure Fantasy Action ocean drug abuse exot...\n",
              "2    Action Adventure Crime spy based on novel secr...\n",
              "3    Action Crime Drama Thriller dc comics crime fi...\n",
              "4    Action Adventure Science Fiction based on nove...\n",
              "Name: combined_features, dtype: object"
            ]
          },
          "metadata": {},
          "execution_count": 30
        }
      ]
    },
    {
      "cell_type": "code",
      "source": [
        "df.columns"
      ],
      "metadata": {
        "colab": {
          "base_uri": "https://localhost:8080/"
        },
        "id": "mrsIwquoXLIc",
        "outputId": "62a792a2-09ad-41a6-e04d-3b4b7a0c2b02"
      },
      "execution_count": 33,
      "outputs": [
        {
          "output_type": "execute_result",
          "data": {
            "text/plain": [
              "Index(['index', 'budget', 'genres', 'homepage', 'id', 'keywords',\n",
              "       'original_language', 'original_title', 'overview', 'popularity',\n",
              "       'production_companies', 'production_countries', 'release_date',\n",
              "       'revenue', 'runtime', 'spoken_languages', 'status', 'tagline', 'title',\n",
              "       'vote_average', 'vote_count', 'cast', 'crew', 'director',\n",
              "       'combined_features', 'combine_features'],\n",
              "      dtype='object')"
            ]
          },
          "metadata": {},
          "execution_count": 33
        }
      ]
    },
    {
      "cell_type": "code",
      "source": [
        "df.drop(['combine_features'], axis = 1, inplace = True)"
      ],
      "metadata": {
        "id": "FX9sQGNKXZ3G"
      },
      "execution_count": 36,
      "outputs": []
    },
    {
      "cell_type": "code",
      "source": [
        "df.columns"
      ],
      "metadata": {
        "colab": {
          "base_uri": "https://localhost:8080/"
        },
        "id": "K45-njrLYHws",
        "outputId": "eeea314e-df69-495d-b594-c0fd5607696b"
      },
      "execution_count": 37,
      "outputs": [
        {
          "output_type": "execute_result",
          "data": {
            "text/plain": [
              "Index(['index', 'budget', 'genres', 'homepage', 'id', 'keywords',\n",
              "       'original_language', 'original_title', 'overview', 'popularity',\n",
              "       'production_companies', 'production_countries', 'release_date',\n",
              "       'revenue', 'runtime', 'spoken_languages', 'status', 'tagline', 'title',\n",
              "       'vote_average', 'vote_count', 'cast', 'crew', 'director',\n",
              "       'combined_features'],\n",
              "      dtype='object')"
            ]
          },
          "metadata": {},
          "execution_count": 37
        }
      ]
    },
    {
      "cell_type": "code",
      "source": [
        "from sklearn.feature_extraction.text import CountVectorizer\n",
        "from sklearn.metrics.pairwise import cosine_similarity"
      ],
      "metadata": {
        "id": "_blpdH6-YLcT"
      },
      "execution_count": 38,
      "outputs": []
    },
    {
      "cell_type": "code",
      "source": [
        "cv = CountVectorizer()"
      ],
      "metadata": {
        "id": "54SBIc9hYWv3"
      },
      "execution_count": 39,
      "outputs": []
    },
    {
      "cell_type": "code",
      "source": [
        "count_matrix = cv.fit_transform(df['combined_features'])"
      ],
      "metadata": {
        "id": "wcWtw26pYYqq"
      },
      "execution_count": 40,
      "outputs": []
    },
    {
      "cell_type": "code",
      "source": [
        "cosin_sim = cosine_similarity(count_matrix)"
      ],
      "metadata": {
        "id": "NB89RJhzYeap"
      },
      "execution_count": 41,
      "outputs": []
    },
    {
      "cell_type": "code",
      "source": [
        "cosin_sim.shape"
      ],
      "metadata": {
        "colab": {
          "base_uri": "https://localhost:8080/"
        },
        "id": "gtsWUmOoYj_8",
        "outputId": "69a6d1b1-7cf2-4147-e42c-870c78e07802"
      },
      "execution_count": 43,
      "outputs": [
        {
          "output_type": "execute_result",
          "data": {
            "text/plain": [
              "(4805, 4805)"
            ]
          },
          "metadata": {},
          "execution_count": 43
        }
      ]
    },
    {
      "cell_type": "code",
      "source": [
        "cosin_sim[0]"
      ],
      "metadata": {
        "colab": {
          "base_uri": "https://localhost:8080/"
        },
        "id": "d-ZeBfI-YnhR",
        "outputId": "61c6e989-292b-41f9-dfcf-04fe9728ab88"
      },
      "execution_count": 45,
      "outputs": [
        {
          "output_type": "execute_result",
          "data": {
            "text/plain": [
              "array([1.        , 0.10540926, 0.12038585, ..., 0.        , 0.23210354,\n",
              "       0.23210354])"
            ]
          },
          "metadata": {},
          "execution_count": 45
        }
      ]
    },
    {
      "cell_type": "code",
      "source": [
        "cosin_sim[1]"
      ],
      "metadata": {
        "colab": {
          "base_uri": "https://localhost:8080/"
        },
        "id": "m-Cm2AOGYruv",
        "outputId": "7853d0d6-892b-4eb6-91c6-3064ee3abb28"
      },
      "execution_count": 46,
      "outputs": [
        {
          "output_type": "execute_result",
          "data": {
            "text/plain": [
              "array([0.10540926, 1.        , 0.0761387 , ..., 0.        , 0.22019275,\n",
              "       0.22019275])"
            ]
          },
          "metadata": {},
          "execution_count": 46
        }
      ]
    },
    {
      "cell_type": "code",
      "source": [
        "def get_title(index):\n",
        "  return df[df['index'] == index]['title'].iloc[0]"
      ],
      "metadata": {
        "id": "t2C6FQ3-Yu9G"
      },
      "execution_count": 47,
      "outputs": []
    },
    {
      "cell_type": "code",
      "source": [
        "def get_index(title):\n",
        "  return int(df[df['title'].str.lower() == title.lower()]['index'].iloc[0])\n",
        "\n",
        "get_title(1000)"
      ],
      "metadata": {
        "colab": {
          "base_uri": "https://localhost:8080/",
          "height": 35
        },
        "id": "tKvV0JxZY7oe",
        "outputId": "86a11c43-c3d7-4ce9-c40f-8f6fd4e618ec"
      },
      "execution_count": 49,
      "outputs": [
        {
          "output_type": "execute_result",
          "data": {
            "text/plain": [
              "'Drive Angry'"
            ],
            "application/vnd.google.colaboratory.intrinsic+json": {
              "type": "string"
            }
          },
          "metadata": {},
          "execution_count": 49
        }
      ]
    },
    {
      "cell_type": "code",
      "source": [
        "get_index('Batman')"
      ],
      "metadata": {
        "colab": {
          "base_uri": "https://localhost:8080/"
        },
        "id": "84WAkwwZZSFI",
        "outputId": "6c7a4b1a-34cc-4404-868e-9b6582b2820b"
      },
      "execution_count": 52,
      "outputs": [
        {
          "output_type": "execute_result",
          "data": {
            "text/plain": [
              "1359"
            ]
          },
          "metadata": {},
          "execution_count": 52
        }
      ]
    },
    {
      "cell_type": "code",
      "source": [
        "movie_user_likes = input(\"Enter a movie you like: \")"
      ],
      "metadata": {
        "colab": {
          "base_uri": "https://localhost:8080/"
        },
        "id": "BoCbIvcWZYRA",
        "outputId": "cb41c58e-f2e3-4077-ce5a-a3ca1feddcc6"
      },
      "execution_count": 53,
      "outputs": [
        {
          "name": "stdout",
          "output_type": "stream",
          "text": [
            "Enter a movie you like: batman\n"
          ]
        }
      ]
    },
    {
      "cell_type": "code",
      "source": [
        "movie_index = get_index(movie_user_likes)"
      ],
      "metadata": {
        "id": "ZyCi5LhJZjlS"
      },
      "execution_count": 54,
      "outputs": []
    },
    {
      "cell_type": "code",
      "source": [
        "movie_index"
      ],
      "metadata": {
        "colab": {
          "base_uri": "https://localhost:8080/"
        },
        "id": "ekqOfhkwZpYr",
        "outputId": "5496681c-16cd-42f3-c703-80b5178736d5"
      },
      "execution_count": 55,
      "outputs": [
        {
          "output_type": "execute_result",
          "data": {
            "text/plain": [
              "1359"
            ]
          },
          "metadata": {},
          "execution_count": 55
        }
      ]
    },
    {
      "cell_type": "code",
      "source": [
        "similar_movies = cosin_sim[movie_index]"
      ],
      "metadata": {
        "id": "lKLvyEUoZrbq"
      },
      "execution_count": 57,
      "outputs": []
    },
    {
      "cell_type": "code",
      "source": [
        "similar_movies"
      ],
      "metadata": {
        "colab": {
          "base_uri": "https://localhost:8080/"
        },
        "id": "c0w292r9ZvXH",
        "outputId": "9278f1e9-113d-4924-f2f6-40670c68ee14"
      },
      "execution_count": 58,
      "outputs": [
        {
          "output_type": "execute_result",
          "data": {
            "text/plain": [
              "array([0.07698004, 0.10954451, 0.08340577, ..., 0.        , 0.18090681,\n",
              "       0.18090681])"
            ]
          },
          "metadata": {},
          "execution_count": 58
        }
      ]
    },
    {
      "cell_type": "code",
      "source": [
        "sorted_movies = sorted(enumerate(similar_movies), reverse = True, key= lambda movie: movie[1])[1:]"
      ],
      "metadata": {
        "id": "bsDQ_t6lZ11t"
      },
      "execution_count": 61,
      "outputs": []
    },
    {
      "cell_type": "code",
      "source": [
        "sorted_movies"
      ],
      "metadata": {
        "colab": {
          "base_uri": "https://localhost:8080/"
        },
        "id": "3fxsT7m2bSb7",
        "outputId": "e17b91b0-1521-4626-c782-7c65372407cb"
      },
      "execution_count": 62,
      "outputs": [
        {
          "output_type": "execute_result",
          "data": {
            "text/plain": [
              "[(428, 0.6531972647421809),\n",
              " (210, 0.42339019740572564),\n",
              " (3, 0.3530090432487313),\n",
              " (65, 0.3530090432487313),\n",
              " (119, 0.3530090432487313),\n",
              " (753, 0.28284271247461906),\n",
              " (2530, 0.2683281572999748),\n",
              " (1035, 0.24494897427831785),\n",
              " (2635, 0.23533936216582085),\n",
              " (813, 0.23094010767585035),\n",
              " (4638, 0.23094010767585035),\n",
              " (14, 0.22677868380553634),\n",
              " (4065, 0.22677868380553634),\n",
              " (2793, 0.223606797749979),\n",
              " (1803, 0.22360679774997896),\n",
              " (2047, 0.22360679774997896),\n",
              " (2655, 0.22360679774997896),\n",
              " (3637, 0.22360679774997896),\n",
              " (278, 0.21908902300206645),\n",
              " (215, 0.21821789023599242),\n",
              " (1009, 0.21821789023599242),\n",
              " (2313, 0.21320071635561044),\n",
              " (2858, 0.21320071635561044),\n",
              " (3372, 0.21320071635561044),\n",
              " (3630, 0.21320071635561044),\n",
              " (3774, 0.21320071635561044),\n",
              " (207, 0.2085144140570748),\n",
              " (299, 0.2085144140570748),\n",
              " (1512, 0.2085144140570748),\n",
              " (1792, 0.2085144140570748),\n",
              " (2029, 0.2085144140570748),\n",
              " (3854, 0.2085144140570748),\n",
              " (4675, 0.2085144140570748),\n",
              " (3306, 0.2065591117977289),\n",
              " (1827, 0.20412414523193156),\n",
              " (5, 0.20000000000000004),\n",
              " (2108, 0.20000000000000004),\n",
              " (3326, 0.2),\n",
              " (3359, 0.2),\n",
              " (4105, 0.2),\n",
              " (30, 0.19611613513818404),\n",
              " (473, 0.19611613513818404),\n",
              " (665, 0.19611613513818404),\n",
              " (1503, 0.19402850002906638),\n",
              " (3921, 0.19402850002906638),\n",
              " (4256, 0.19402850002906638),\n",
              " (72, 0.1924500897298753),\n",
              " (3971, 0.18973665961010278),\n",
              " (1720, 0.1889822365046136),\n",
              " (3873, 0.1889822365046136),\n",
              " (715, 0.1885618083164127),\n",
              " (1289, 0.1885618083164127),\n",
              " (4313, 0.1885618083164127),\n",
              " (1740, 0.18569533817705186),\n",
              " (3350, 0.18569533817705186),\n",
              " (1434, 0.1835325870964494),\n",
              " (3332, 0.1835325870964494),\n",
              " (3550, 0.1835325870964494),\n",
              " (4300, 0.1835325870964494),\n",
              " (4803, 0.18090680674665818),\n",
              " (4804, 0.18090680674665818),\n",
              " (303, 0.17888543819998318),\n",
              " (731, 0.17888543819998318),\n",
              " (1043, 0.17888543819998318),\n",
              " (1141, 0.17888543819998318),\n",
              " (1592, 0.17888543819998318),\n",
              " (4153, 0.17888543819998318),\n",
              " (4154, 0.17888543819998318),\n",
              " (4399, 0.17888543819998318),\n",
              " (1296, 0.17677669529663687),\n",
              " (447, 0.17457431218879393),\n",
              " (1506, 0.17457431218879393),\n",
              " (1897, 0.17457431218879393),\n",
              " (2822, 0.17457431218879393),\n",
              " (3851, 0.17457431218879393),\n",
              " (4713, 0.17457431218879393),\n",
              " (4778, 0.17457431218879393),\n",
              " (3836, 0.17320508075688776),\n",
              " (4411, 0.17320508075688776),\n",
              " (42, 0.17056057308448835),\n",
              " (224, 0.17056057308448835),\n",
              " (422, 0.17056057308448835),\n",
              " (636, 0.17056057308448835),\n",
              " (755, 0.17056057308448835),\n",
              " (826, 0.17056057308448835),\n",
              " (836, 0.17056057308448835),\n",
              " (1076, 0.17056057308448835),\n",
              " (1124, 0.17056057308448835),\n",
              " (1785, 0.17056057308448835),\n",
              " (2543, 0.17056057308448835),\n",
              " (3106, 0.17056057308448835),\n",
              " (3819, 0.17056057308448835),\n",
              " (4177, 0.17056057308448835),\n",
              " (4795, 0.17056057308448835),\n",
              " (597, 0.16681153124565984),\n",
              " (963, 0.16681153124565984),\n",
              " (1390, 0.16681153124565984),\n",
              " (1635, 0.16681153124565984),\n",
              " (1699, 0.16681153124565984),\n",
              " (1991, 0.16681153124565984),\n",
              " (2609, 0.16681153124565984),\n",
              " (2824, 0.16681153124565984),\n",
              " (3901, 0.16681153124565984),\n",
              " (9, 0.16329931618554525),\n",
              " (36, 0.16329931618554525),\n",
              " (1245, 0.16329931618554525),\n",
              " (2157, 0.16329931618554525),\n",
              " (3168, 0.16329931618554525),\n",
              " (3333, 0.16329931618554525),\n",
              " (4527, 0.16329931618554525),\n",
              " (1963, 0.16035674514745465),\n",
              " (2574, 0.16035674514745465),\n",
              " (2631, 0.16035674514745465),\n",
              " (3020, 0.16035674514745465),\n",
              " (10, 0.16000000000000003),\n",
              " (271, 0.16000000000000003),\n",
              " (741, 0.16000000000000003),\n",
              " (1085, 0.16000000000000003),\n",
              " (1234, 0.16000000000000003),\n",
              " (1432, 0.16000000000000003),\n",
              " (2191, 0.16000000000000003),\n",
              " (3297, 0.16000000000000003),\n",
              " (3477, 0.16000000000000003),\n",
              " (41, 0.15689290811054724),\n",
              " (186, 0.15689290811054724),\n",
              " (690, 0.15689290811054724),\n",
              " (935, 0.15689290811054724),\n",
              " (1034, 0.15689290811054724),\n",
              " (1939, 0.15689290811054724),\n",
              " (2444, 0.15689290811054724),\n",
              " (3466, 0.15689290811054724),\n",
              " (3935, 0.15689290811054724),\n",
              " (588, 0.15491933384829668),\n",
              " (2001, 0.15491933384829668),\n",
              " (681, 0.15396007178390023),\n",
              " (1001, 0.15396007178390023),\n",
              " (3033, 0.15396007178390023),\n",
              " (3446, 0.15396007178390023),\n",
              " (4440, 0.15396007178390023),\n",
              " (32, 0.15118578920369088),\n",
              " (163, 0.15118578920369088),\n",
              " (581, 0.15118578920369088),\n",
              " (870, 0.15118578920369088),\n",
              " (1303, 0.15118578920369088),\n",
              " (1431, 0.15118578920369088),\n",
              " (3891, 0.15118578920369088),\n",
              " (2708, 0.15000000000000002),\n",
              " (3284, 0.15000000000000002),\n",
              " (4160, 0.15000000000000002),\n",
              " (46, 0.1485562705416415),\n",
              " (73, 0.1485562705416415),\n",
              " (830, 0.1485562705416415),\n",
              " (2349, 0.1485562705416415),\n",
              " (2790, 0.1485562705416415),\n",
              " (323, 0.1455213750217998),\n",
              " (584, 0.1455213750217998),\n",
              " (2205, 0.1455213750217998),\n",
              " (2466, 0.1455213750217998),\n",
              " (3948, 0.1455213750217998),\n",
              " (4739, 0.1455213750217998),\n",
              " (1192, 0.14368424162141993),\n",
              " (1259, 0.14142135623730953),\n",
              " (2223, 0.14142135623730953),\n",
              " (2899, 0.14142135623730953),\n",
              " (3001, 0.14142135623730953),\n",
              " (3267, 0.14142135623730953),\n",
              " (3400, 0.14142135623730953),\n",
              " (3724, 0.14142135623730953),\n",
              " (1024, 0.1414213562373095),\n",
              " (1439, 0.1414213562373095),\n",
              " (1600, 0.13764944032233706),\n",
              " (1771, 0.13764944032233706),\n",
              " (2055, 0.13764944032233706),\n",
              " (2474, 0.13764944032233706),\n",
              " (3945, 0.13764944032233706),\n",
              " (4599, 0.13764944032233706),\n",
              " (4621, 0.13764944032233706),\n",
              " (438, 0.1341640786499874),\n",
              " (748, 0.1341640786499874),\n",
              " (869, 0.1341640786499874),\n",
              " (968, 0.1341640786499874),\n",
              " (1002, 0.1341640786499874),\n",
              " (1247, 0.1341640786499874),\n",
              " (1674, 0.1341640786499874),\n",
              " (2813, 0.1341640786499874),\n",
              " (3111, 0.1341640786499874),\n",
              " (35, 0.13093073414159545),\n",
              " (170, 0.13093073414159545),\n",
              " (415, 0.13093073414159545),\n",
              " (644, 0.13093073414159545),\n",
              " (721, 0.13093073414159545),\n",
              " (993, 0.13093073414159545),\n",
              " (1087, 0.13093073414159545),\n",
              " (1109, 0.13093073414159545),\n",
              " (1374, 0.13093073414159545),\n",
              " (1377, 0.13093073414159545),\n",
              " (1394, 0.13093073414159545),\n",
              " (1411, 0.13093073414159545),\n",
              " (1682, 0.13093073414159545),\n",
              " (1726, 0.13093073414159545),\n",
              " (1734, 0.13093073414159545),\n",
              " (1884, 0.13093073414159545),\n",
              " (1918, 0.13093073414159545),\n",
              " (2002, 0.13093073414159545),\n",
              " (2123, 0.13093073414159545),\n",
              " (2280, 0.13093073414159545),\n",
              " (2383, 0.13093073414159545),\n",
              " (2783, 0.13093073414159545),\n",
              " (2812, 0.13093073414159545),\n",
              " (3030, 0.13093073414159545),\n",
              " (3088, 0.13093073414159545),\n",
              " (3112, 0.13093073414159545),\n",
              " (3151, 0.13093073414159545),\n",
              " (3518, 0.13093073414159545),\n",
              " (3672, 0.13093073414159545),\n",
              " (3833, 0.13093073414159545),\n",
              " (4063, 0.13093073414159545),\n",
              " (4132, 0.13093073414159545),\n",
              " (4388, 0.13093073414159545),\n",
              " (8, 0.12792042981336627),\n",
              " (52, 0.12792042981336627),\n",
              " (90, 0.12792042981336627),\n",
              " (101, 0.12792042981336627),\n",
              " (242, 0.12792042981336627),\n",
              " (351, 0.12792042981336627),\n",
              " (546, 0.12792042981336627),\n",
              " (547, 0.12792042981336627),\n",
              " (571, 0.12792042981336627),\n",
              " (606, 0.12792042981336627),\n",
              " (664, 0.12792042981336627),\n",
              " (740, 0.12792042981336627),\n",
              " (1049, 0.12792042981336627),\n",
              " (1058, 0.12792042981336627),\n",
              " (1343, 0.12792042981336627),\n",
              " (1477, 0.12792042981336627),\n",
              " (1579, 0.12792042981336627),\n",
              " (1653, 0.12792042981336627),\n",
              " (1661, 0.12792042981336627),\n",
              " (1765, 0.12792042981336627),\n",
              " (1799, 0.12792042981336627),\n",
              " (1804, 0.12792042981336627),\n",
              " (1826, 0.12792042981336627),\n",
              " (2324, 0.12792042981336627),\n",
              " (2342, 0.12792042981336627),\n",
              " (2378, 0.12792042981336627),\n",
              " (2448, 0.12792042981336627),\n",
              " (2492, 0.12792042981336627),\n",
              " (2983, 0.12792042981336627),\n",
              " (3965, 0.12792042981336627),\n",
              " (3966, 0.12792042981336627),\n",
              " (4325, 0.12792042981336627),\n",
              " (4472, 0.12792042981336627),\n",
              " (4418, 0.1264911064067352),\n",
              " (111, 0.12510864843424488),\n",
              " (198, 0.12510864843424488),\n",
              " (279, 0.12510864843424488),\n",
              " (513, 0.12510864843424488),\n",
              " (583, 0.12510864843424488),\n",
              " (762, 0.12510864843424488),\n",
              " (959, 0.12510864843424488),\n",
              " (1214, 0.12510864843424488),\n",
              " (1331, 0.12510864843424488),\n",
              " (1594, 0.12510864843424488),\n",
              " (1858, 0.12510864843424488),\n",
              " (1964, 0.12510864843424488),\n",
              " (2061, 0.12510864843424488),\n",
              " (2320, 0.12510864843424488),\n",
              " (2362, 0.12510864843424488),\n",
              " (2372, 0.12510864843424488),\n",
              " (2398, 0.12510864843424488),\n",
              " (2540, 0.12510864843424488),\n",
              " (2553, 0.12510864843424488),\n",
              " (2740, 0.12510864843424488),\n",
              " (3294, 0.12510864843424488),\n",
              " (3323, 0.12510864843424488),\n",
              " (3667, 0.12510864843424488),\n",
              " (3826, 0.12510864843424488),\n",
              " (3986, 0.12510864843424488),\n",
              " (4077, 0.12510864843424488),\n",
              " (4291, 0.12510864843424488),\n",
              " (4312, 0.12510864843424488),\n",
              " (109, 0.12247448713915893),\n",
              " (510, 0.12247448713915893),\n",
              " (714, 0.12247448713915893),\n",
              " (1292, 0.12247448713915893),\n",
              " (1358, 0.12247448713915893),\n",
              " (1421, 0.12247448713915893),\n",
              " (1566, 0.12247448713915893),\n",
              " (1578, 0.12247448713915893),\n",
              " (2054, 0.12247448713915893),\n",
              " (2415, 0.12247448713915893),\n",
              " (2579, 0.12247448713915893),\n",
              " (2713, 0.12247448713915893),\n",
              " (2826, 0.12247448713915893),\n",
              " (3086, 0.12247448713915893),\n",
              " (3293, 0.12247448713915893),\n",
              " (3439, 0.12247448713915893),\n",
              " (4135, 0.12247448713915893),\n",
              " (4439, 0.12247448713915893),\n",
              " (4493, 0.12060453783110546),\n",
              " (113, 0.12000000000000002),\n",
              " (114, 0.12000000000000002),\n",
              " (115, 0.12000000000000002),\n",
              " (133, 0.12000000000000002),\n",
              " (149, 0.12000000000000002),\n",
              " (199, 0.12000000000000002),\n",
              " (419, 0.12000000000000002),\n",
              " (480, 0.12000000000000002),\n",
              " (994, 0.12000000000000002),\n",
              " (1000, 0.12000000000000002),\n",
              " (1144, 0.12000000000000002),\n",
              " (1236, 0.12000000000000002),\n",
              " (1515, 0.12000000000000002),\n",
              " (1999, 0.12000000000000002),\n",
              " (2111, 0.12000000000000002),\n",
              " (2221, 0.12000000000000002),\n",
              " (2304, 0.12000000000000002),\n",
              " (2365, 0.12000000000000002),\n",
              " (2433, 0.12000000000000002),\n",
              " (2645, 0.12000000000000002),\n",
              " (2753, 0.12000000000000002),\n",
              " (2835, 0.12000000000000002),\n",
              " (3184, 0.12000000000000002),\n",
              " (3208, 0.12000000000000002),\n",
              " (3209, 0.12000000000000002),\n",
              " (4267, 0.12000000000000002),\n",
              " (4326, 0.12000000000000002),\n",
              " (280, 0.11766968108291043),\n",
              " (587, 0.11766968108291043),\n",
              " (608, 0.11766968108291043),\n",
              " (941, 0.11766968108291043),\n",
              " (1048, 0.11766968108291043),\n",
              " (1270, 0.11766968108291043),\n",
              " (1339, 0.11766968108291043),\n",
              " (1608, 0.11766968108291043),\n",
              " (1952, 0.11766968108291043),\n",
              " (2026, 0.11766968108291043),\n",
              " (2203, 0.11766968108291043),\n",
              " (2334, 0.11766968108291043),\n",
              " (2403, 0.11766968108291043),\n",
              " (3291, 0.11766968108291043),\n",
              " (3492, 0.11766968108291043),\n",
              " (4100, 0.11766968108291043),\n",
              " (4252, 0.11547005383792518),\n",
              " (117, 0.11547005383792516),\n",
              " (182, 0.11547005383792516),\n",
              " (268, 0.11547005383792516),\n",
              " (358, 0.11547005383792516),\n",
              " (782, 0.11547005383792516),\n",
              " (1146, 0.11547005383792516),\n",
              " (1664, 0.11547005383792516),\n",
              " (2381, 0.11547005383792516),\n",
              " (292, 0.11338934190276817),\n",
              " (411, 0.11338934190276817),\n",
              " (673, 0.11338934190276817),\n",
              " (2371, 0.11338934190276817),\n",
              " (2470, 0.11338934190276817),\n",
              " (3250, 0.11338934190276817),\n",
              " (3352, 0.11338934190276817),\n",
              " (800, 0.11141720290623112),\n",
              " (1029, 0.11141720290623112),\n",
              " (1175, 0.11141720290623112),\n",
              " (1531, 0.11141720290623112),\n",
              " (1626, 0.11141720290623112),\n",
              " (2545, 0.11141720290623112),\n",
              " (4142, 0.11094003924504584),\n",
              " (4285, 0.11094003924504584),\n",
              " (4515, 0.11094003924504584),\n",
              " (4569, 0.11094003924504584),\n",
              " (4618, 0.11094003924504584),\n",
              " (4663, 0.11094003924504584),\n",
              " (1, 0.10954451150103323),\n",
              " (18, 0.10954451150103323),\n",
              " (305, 0.10954451150103323),\n",
              " (456, 0.10954451150103323),\n",
              " (946, 0.10954451150103323),\n",
              " (2184, 0.10954451150103323),\n",
              " (3409, 0.10954451150103323),\n",
              " (452, 0.10776318121606496),\n",
              " (973, 0.10776318121606496),\n",
              " (3837, 0.10776318121606496),\n",
              " (1775, 0.10690449676496977),\n",
              " (2070, 0.10690449676496977),\n",
              " (2360, 0.10690449676496977),\n",
              " (2687, 0.10690449676496977),\n",
              " (2789, 0.10690449676496977),\n",
              " (3224, 0.10690449676496977),\n",
              " (3354, 0.10690449676496977),\n",
              " (3911, 0.10690449676496977),\n",
              " (4184, 0.10690449676496977),\n",
              " (4311, 0.10690449676496977),\n",
              " (4430, 0.10690449676496977),\n",
              " (4584, 0.10690449676496977),\n",
              " (4791, 0.10690449676496977),\n",
              " (718, 0.10606601717798213),\n",
              " (174, 0.10444659357341872),\n",
              " (1363, 0.10444659357341872),\n",
              " (1977, 0.10444659357341872),\n",
              " (71, 0.10327955589886445),\n",
              " (2738, 0.10327955589886445),\n",
              " (2779, 0.10327955589886445),\n",
              " (3080, 0.10327955589886445),\n",
              " (3280, 0.10327955589886445),\n",
              " (3371, 0.10327955589886445),\n",
              " (3590, 0.10327955589886445),\n",
              " (3632, 0.10327955589886445),\n",
              " (3669, 0.10327955589886445),\n",
              " (3714, 0.10327955589886445),\n",
              " (3972, 0.10327955589886445),\n",
              " (3976, 0.10327955589886445),\n",
              " (4047, 0.10327955589886445),\n",
              " (4203, 0.10327955589886445),\n",
              " (4482, 0.10327955589886445),\n",
              " (4506, 0.10327955589886445),\n",
              " (4552, 0.10327955589886445),\n",
              " (4625, 0.10327955589886445),\n",
              " (4630, 0.10327955589886445),\n",
              " (81, 0.10289915108550529),\n",
              " (1005, 0.10289915108550529),\n",
              " (3753, 0.10289915108550529),\n",
              " (866, 0.1),\n",
              " (1097, 0.1),\n",
              " (1937, 0.1),\n",
              " (2367, 0.1),\n",
              " (2921, 0.1),\n",
              " (3008, 0.1),\n",
              " (3412, 0.1),\n",
              " (3510, 0.1),\n",
              " (3591, 0.1),\n",
              " (3762, 0.1),\n",
              " (3912, 0.1),\n",
              " (3978, 0.1),\n",
              " (4279, 0.1),\n",
              " (4401, 0.1),\n",
              " (4522, 0.1),\n",
              " (4645, 0.1),\n",
              " (4646, 0.1),\n",
              " (4730, 0.1),\n",
              " (381, 0.09701425001453319),\n",
              " (774, 0.09701425001453319),\n",
              " (1183, 0.09701425001453319),\n",
              " (1253, 0.09701425001453319),\n",
              " (1278, 0.09701425001453319),\n",
              " (1474, 0.09701425001453319),\n",
              " (1631, 0.09701425001453319),\n",
              " (1789, 0.09701425001453319),\n",
              " (1816, 0.09701425001453319),\n",
              " (1824, 0.09701425001453319),\n",
              " (2222, 0.09701425001453319),\n",
              " (2364, 0.09701425001453319),\n",
              " (2414, 0.09701425001453319),\n",
              " (2851, 0.09701425001453319),\n",
              " (2869, 0.09701425001453319),\n",
              " (3114, 0.09701425001453319),\n",
              " (3144, 0.09701425001453319),\n",
              " (3416, 0.09701425001453319),\n",
              " (3607, 0.09701425001453319),\n",
              " (3919, 0.09701425001453319),\n",
              " (3953, 0.09701425001453319),\n",
              " (4386, 0.09701425001453319),\n",
              " (58, 0.09428090415820635),\n",
              " (345, 0.09428090415820635),\n",
              " (786, 0.09428090415820635),\n",
              " (1403, 0.09428090415820635),\n",
              " (1417, 0.09428090415820635),\n",
              " (1479, 0.09428090415820635),\n",
              " (1488, 0.09428090415820635),\n",
              " (1524, 0.09428090415820635),\n",
              " (1574, 0.09428090415820635),\n",
              " (1675, 0.09428090415820635),\n",
              " (1899, 0.09428090415820635),\n",
              " (1986, 0.09428090415820635),\n",
              " (2322, 0.09428090415820635),\n",
              " (2583, 0.09428090415820635),\n",
              " (2604, 0.09428090415820635),\n",
              " (2902, 0.09428090415820635),\n",
              " (2939, 0.09428090415820635),\n",
              " (2959, 0.09428090415820635),\n",
              " (3116, 0.09428090415820635),\n",
              " (3694, 0.09428090415820635),\n",
              " (3855, 0.09428090415820635),\n",
              " (3868, 0.09428090415820635),\n",
              " (3946, 0.09428090415820635),\n",
              " (4028, 0.09428090415820635),\n",
              " (4159, 0.09428090415820635),\n",
              " (4554, 0.09428090415820635),\n",
              " (4664, 0.09428090415820635),\n",
              " (264, 0.0917662935482247),\n",
              " (315, 0.0917662935482247),\n",
              " (434, 0.0917662935482247),\n",
              " (463, 0.0917662935482247),\n",
              " (534, 0.0917662935482247),\n",
              " (620, 0.0917662935482247),\n",
              " (747, 0.0917662935482247),\n",
              " (905, 0.0917662935482247),\n",
              " (936, 0.0917662935482247),\n",
              " (1114, 0.0917662935482247),\n",
              " (1342, 0.0917662935482247),\n",
              " (1448, 0.0917662935482247),\n",
              " (1665, 0.0917662935482247),\n",
              " (1860, 0.0917662935482247),\n",
              " (1954, 0.0917662935482247),\n",
              " (2048, 0.0917662935482247),\n",
              " (2114, 0.0917662935482247),\n",
              " (2154, 0.0917662935482247),\n",
              " (2176, 0.0917662935482247),\n",
              " (2202, 0.0917662935482247),\n",
              " (2251, 0.0917662935482247),\n",
              " (2284, 0.0917662935482247),\n",
              " (2531, 0.0917662935482247),\n",
              " (2889, 0.0917662935482247),\n",
              " (2931, 0.0917662935482247),\n",
              " (3047, 0.0917662935482247),\n",
              " (3308, 0.0917662935482247),\n",
              " (3338, 0.0917662935482247),\n",
              " (3441, 0.0917662935482247),\n",
              " (3455, 0.0917662935482247),\n",
              " (3515, 0.0917662935482247),\n",
              " (3600, 0.0917662935482247),\n",
              " (3609, 0.0917662935482247),\n",
              " (3628, 0.0917662935482247),\n",
              " (3775, 0.0917662935482247),\n",
              " (3778, 0.0917662935482247),\n",
              " (4054, 0.0917662935482247),\n",
              " (4117, 0.0917662935482247),\n",
              " (4158, 0.0917662935482247),\n",
              " (4183, 0.0917662935482247),\n",
              " (4221, 0.0917662935482247),\n",
              " (4324, 0.0917662935482247),\n",
              " (4432, 0.0917662935482247),\n",
              " (4496, 0.0917662935482247),\n",
              " (4654, 0.0917662935482247),\n",
              " (4793, 0.0917662935482247),\n",
              " (48, 0.08944271909999159),\n",
              " (131, 0.08944271909999159),\n",
              " (226, 0.08944271909999159),\n",
              " (372, 0.08944271909999159),\n",
              " (467, 0.08944271909999159),\n",
              " (537, 0.08944271909999159),\n",
              " (702, 0.08944271909999159),\n",
              " (763, 0.08944271909999159),\n",
              " (958, 0.08944271909999159),\n",
              " (992, 0.08944271909999159),\n",
              " (1081, 0.08944271909999159),\n",
              " (1453, 0.08944271909999159),\n",
              " (1529, 0.08944271909999159),\n",
              " (1547, 0.08944271909999159),\n",
              " (1727, 0.08944271909999159),\n",
              " (1868, 0.08944271909999159),\n",
              " (1893, 0.08944271909999159),\n",
              " (1916, 0.08944271909999159),\n",
              " (1976, 0.08944271909999159),\n",
              " (2105, 0.08944271909999159),\n",
              " (2192, 0.08944271909999159),\n",
              " (2277, 0.08944271909999159),\n",
              " (2291, 0.08944271909999159),\n",
              " (2471, 0.08944271909999159),\n",
              " (2482, 0.08944271909999159),\n",
              " (2562, 0.08944271909999159),\n",
              " (2575, 0.08944271909999159),\n",
              " (2610, 0.08944271909999159),\n",
              " (2676, 0.08944271909999159),\n",
              " (2771, 0.08944271909999159),\n",
              " (2780, 0.08944271909999159),\n",
              " (2907, 0.08944271909999159),\n",
              " (3075, 0.08944271909999159),\n",
              " (3097, 0.08944271909999159),\n",
              " (3368, 0.08944271909999159),\n",
              " (3394, 0.08944271909999159),\n",
              " (3459, 0.08944271909999159),\n",
              " (3505, 0.08944271909999159),\n",
              " (3634, 0.08944271909999159),\n",
              " (3678, 0.08944271909999159),\n",
              " (3725, 0.08944271909999159),\n",
              " (3733, 0.08944271909999159),\n",
              " (3829, 0.08944271909999159),\n",
              " (3831, 0.08944271909999159),\n",
              " (3849, 0.08944271909999159),\n",
              " (3856, 0.08944271909999159),\n",
              " (3893, 0.08944271909999159),\n",
              " (3984, 0.08944271909999159),\n",
              " (4329, 0.08944271909999159),\n",
              " (4428, 0.08944271909999159),\n",
              " (4461, 0.08944271909999159),\n",
              " (4514, 0.08944271909999159),\n",
              " (4539, 0.08944271909999159),\n",
              " (4616, 0.08944271909999159),\n",
              " (4776, 0.08944271909999159),\n",
              " (107, 0.08728715609439697),\n",
              " (208, 0.08728715609439697),\n",
              " (213, 0.08728715609439697),\n",
              " (219, 0.08728715609439697),\n",
              " (252, 0.08728715609439697),\n",
              " (294, 0.08728715609439697),\n",
              " (396, 0.08728715609439697),\n",
              " (724, 0.08728715609439697),\n",
              " (804, 0.08728715609439697),\n",
              " (828, 0.08728715609439697),\n",
              " (831, 0.08728715609439697),\n",
              " (841, 0.08728715609439697),\n",
              " (856, 0.08728715609439697),\n",
              " (865, 0.08728715609439697),\n",
              " (893, 0.08728715609439697),\n",
              " (919, 0.08728715609439697),\n",
              " (952, 0.08728715609439697),\n",
              " (969, 0.08728715609439697),\n",
              " (1096, 0.08728715609439697),\n",
              " (1118, 0.08728715609439697),\n",
              " (1256, 0.08728715609439697),\n",
              " (1314, 0.08728715609439697),\n",
              " (1427, 0.08728715609439697),\n",
              " (1433, 0.08728715609439697),\n",
              " (1451, 0.08728715609439697),\n",
              " (1470, 0.08728715609439697),\n",
              " (1615, 0.08728715609439697),\n",
              " (1742, 0.08728715609439697),\n",
              " (1843, 0.08728715609439697),\n",
              " (1912, 0.08728715609439697),\n",
              " (1930, 0.08728715609439697),\n",
              " (1935, 0.08728715609439697),\n",
              " (1955, 0.08728715609439697),\n",
              " (2078, 0.08728715609439697),\n",
              " (2100, 0.08728715609439697),\n",
              " (2237, 0.08728715609439697),\n",
              " (2281, 0.08728715609439697),\n",
              " (2343, 0.08728715609439697),\n",
              " (2389, 0.08728715609439697),\n",
              " (2510, 0.08728715609439697),\n",
              " (2586, 0.08728715609439697),\n",
              " (2721, 0.08728715609439697),\n",
              " (2792, 0.08728715609439697),\n",
              " (2853, 0.08728715609439697),\n",
              " (3148, 0.08728715609439697),\n",
              " (3160, 0.08728715609439697),\n",
              " (3202, 0.08728715609439697),\n",
              " (3220, 0.08728715609439697),\n",
              " (3242, 0.08728715609439697),\n",
              " (3285, 0.08728715609439697),\n",
              " (3318, 0.08728715609439697),\n",
              " (3423, 0.08728715609439697),\n",
              " (3451, 0.08728715609439697),\n",
              " (3463, 0.08728715609439697),\n",
              " (3479, 0.08728715609439697),\n",
              " (3495, 0.08728715609439697),\n",
              " (3553, 0.08728715609439697),\n",
              " (3659, 0.08728715609439697),\n",
              " (3679, 0.08728715609439697),\n",
              " (3704, 0.08728715609439697),\n",
              " (3710, 0.08728715609439697),\n",
              " (3719, 0.08728715609439697),\n",
              " (3744, 0.08728715609439697),\n",
              " (3799, 0.08728715609439697),\n",
              " (3900, 0.08728715609439697),\n",
              " (3939, 0.08728715609439697),\n",
              " (4012, 0.08728715609439697),\n",
              " (4150, 0.08728715609439697),\n",
              " (4348, 0.08728715609439697),\n",
              " (4408, 0.08728715609439697),\n",
              " (17, 0.08528028654224418),\n",
              " (19, 0.08528028654224418),\n",
              " (98, 0.08528028654224418),\n",
              " (103, 0.08528028654224418),\n",
              " (138, 0.08528028654224418),\n",
              " (159, 0.08528028654224418),\n",
              " (164, 0.08528028654224418),\n",
              " (177, 0.08528028654224418),\n",
              " (204, 0.08528028654224418),\n",
              " (205, 0.08528028654224418),\n",
              " (262, 0.08528028654224418),\n",
              " (324, 0.08528028654224418),\n",
              " (343, 0.08528028654224418),\n",
              " (350, 0.08528028654224418),\n",
              " (468, 0.08528028654224418),\n",
              " (554, 0.08528028654224418),\n",
              " (590, 0.08528028654224418),\n",
              " (617, 0.08528028654224418),\n",
              " (647, 0.08528028654224418),\n",
              " (659, 0.08528028654224418),\n",
              " (672, 0.08528028654224418),\n",
              " (739, 0.08528028654224418),\n",
              " (791, 0.08528028654224418),\n",
              " (821, 0.08528028654224418),\n",
              " (825, 0.08528028654224418),\n",
              " (827, 0.08528028654224418),\n",
              " (842, 0.08528028654224418),\n",
              " (864, 0.08528028654224418),\n",
              " (904, 0.08528028654224418),\n",
              " (932, 0.08528028654224418),\n",
              " (950, 0.08528028654224418),\n",
              " (1089, 0.08528028654224418),\n",
              " (1110, 0.08528028654224418),\n",
              " (1178, 0.08528028654224418),\n",
              " (1196, 0.08528028654224418),\n",
              " (1266, 0.08528028654224418),\n",
              " (1327, 0.08528028654224418),\n",
              " (1375, 0.08528028654224418),\n",
              " (1418, 0.08528028654224418),\n",
              " (1419, 0.08528028654224418),\n",
              " (1456, 0.08528028654224418),\n",
              " (1457, 0.08528028654224418),\n",
              " (1458, 0.08528028654224418),\n",
              " (1486, 0.08528028654224418),\n",
              " (1505, 0.08528028654224418),\n",
              " (1712, 0.08528028654224418),\n",
              " (1794, 0.08528028654224418),\n",
              " (1851, 0.08528028654224418),\n",
              " (1853, 0.08528028654224418),\n",
              " (1894, 0.08528028654224418),\n",
              " (1902, 0.08528028654224418),\n",
              " (1936, 0.08528028654224418),\n",
              " (2050, 0.08528028654224418),\n",
              " (2234, 0.08528028654224418),\n",
              " (2250, 0.08528028654224418),\n",
              " (2255, 0.08528028654224418),\n",
              " (2301, 0.08528028654224418),\n",
              " (2340, 0.08528028654224418),\n",
              " (2356, 0.08528028654224418),\n",
              " (2390, 0.08528028654224418),\n",
              " (2412, 0.08528028654224418),\n",
              " (2692, 0.08528028654224418),\n",
              " (2830, 0.08528028654224418),\n",
              " (2848, 0.08528028654224418),\n",
              " (2861, 0.08528028654224418),\n",
              " (2897, 0.08528028654224418),\n",
              " (3062, 0.08528028654224418),\n",
              " (3247, 0.08528028654224418),\n",
              " (3259, 0.08528028654224418),\n",
              " (3260, 0.08528028654224418),\n",
              " (3316, 0.08528028654224418),\n",
              " (3349, 0.08528028654224418),\n",
              " (3405, 0.08528028654224418),\n",
              " (3434, 0.08528028654224418),\n",
              " (3464, 0.08528028654224418),\n",
              " (3480, 0.08528028654224418),\n",
              " (3905, 0.08528028654224418),\n",
              " (3956, 0.08528028654224418),\n",
              " (4008, 0.08528028654224418),\n",
              " (4067, 0.08528028654224418),\n",
              " (4079, 0.08528028654224418),\n",
              " (4099, 0.08528028654224418),\n",
              " (4108, 0.08528028654224418),\n",
              " (4145, 0.08528028654224418),\n",
              " (4286, 0.08528028654224418),\n",
              " (4356, 0.08528028654224418),\n",
              " (4379, 0.08528028654224418),\n",
              " (2, 0.08340576562282992),\n",
              " (12, 0.08340576562282992),\n",
              " (129, 0.08340576562282992),\n",
              " (139, 0.08340576562282992),\n",
              " (148, 0.08340576562282992),\n",
              " (206, 0.08340576562282992),\n",
              " (220, 0.08340576562282992),\n",
              " (221, 0.08340576562282992),\n",
              " (296, 0.08340576562282992),\n",
              " (322, 0.08340576562282992),\n",
              " (433, 0.08340576562282992),\n",
              " (446, 0.08340576562282992),\n",
              " (453, 0.08340576562282992),\n",
              " (589, 0.08340576562282992),\n",
              " (613, 0.08340576562282992),\n",
              " (662, 0.08340576562282992),\n",
              " (746, 0.08340576562282992),\n",
              " (761, 0.08340576562282992),\n",
              " (805, 0.08340576562282992),\n",
              " (877, 0.08340576562282992),\n",
              " (894, 0.08340576562282992),\n",
              " (937, 0.08340576562282992),\n",
              " (984, 0.08340576562282992),\n",
              " (1030, 0.08340576562282992),\n",
              " (1041, 0.08340576562282992),\n",
              " (1074, 0.08340576562282992),\n",
              " (1095, 0.08340576562282992),\n",
              " (1132, 0.08340576562282992),\n",
              " (1133, 0.08340576562282992),\n",
              " (1254, 0.08340576562282992),\n",
              " (1407, 0.08340576562282992),\n",
              " (1420, 0.08340576562282992),\n",
              " (1438, 0.08340576562282992),\n",
              " (1445, 0.08340576562282992),\n",
              " (1478, 0.08340576562282992),\n",
              " (1484, 0.08340576562282992),\n",
              " (1546, 0.08340576562282992),\n",
              " (1575, 0.08340576562282992),\n",
              " (1596, 0.08340576562282992),\n",
              " (1611, 0.08340576562282992),\n",
              " (1643, 0.08340576562282992),\n",
              " (1663, 0.08340576562282992),\n",
              " (1687, 0.08340576562282992),\n",
              " (1707, 0.08340576562282992),\n",
              " (1758, 0.08340576562282992),\n",
              " (1782, 0.08340576562282992),\n",
              " (1837, 0.08340576562282992),\n",
              " (1850, 0.08340576562282992),\n",
              " (1881, 0.08340576562282992),\n",
              " (1886, 0.08340576562282992),\n",
              " (2069, 0.08340576562282992),\n",
              " (2074, 0.08340576562282992),\n",
              " (2179, 0.08340576562282992),\n",
              " (2233, 0.08340576562282992),\n",
              " (2295, 0.08340576562282992),\n",
              " (2366, 0.08340576562282992),\n",
              " (2368, 0.08340576562282992),\n",
              " (2375, 0.08340576562282992),\n",
              " (2392, 0.08340576562282992),\n",
              " (2490, 0.08340576562282992),\n",
              " (2539, 0.08340576562282992),\n",
              " (2555, 0.08340576562282992),\n",
              " (2625, 0.08340576562282992),\n",
              " (2775, 0.08340576562282992),\n",
              " (3145, 0.08340576562282992),\n",
              " (3162, 0.08340576562282992),\n",
              " (3180, 0.08340576562282992),\n",
              " (3183, 0.08340576562282992),\n",
              " (3362, 0.08340576562282992),\n",
              " (3385, 0.08340576562282992),\n",
              " (3404, 0.08340576562282992),\n",
              " (3766, 0.08340576562282992),\n",
              " (3780, 0.08340576562282992),\n",
              " (3828, 0.08340576562282992),\n",
              " (3910, 0.08340576562282992),\n",
              " (4011, 0.08340576562282992),\n",
              " (4030, 0.08340576562282992),\n",
              " (4127, 0.08340576562282992),\n",
              " (4230, 0.08340576562282992),\n",
              " (4232, 0.08340576562282992),\n",
              " (4339, 0.08340576562282992),\n",
              " (4372, 0.08340576562282992),\n",
              " (4392, 0.08340576562282992),\n",
              " (4477, 0.08340576562282992),\n",
              " (4649, 0.08340576562282992),\n",
              " (20, 0.08164965809277262),\n",
              " (61, 0.08164965809277262),\n",
              " (99, 0.08164965809277262),\n",
              " (121, 0.08164965809277262),\n",
              " (152, 0.08164965809277262),\n",
              " (187, 0.08164965809277262),\n",
              " (238, 0.08164965809277262),\n",
              " (270, 0.08164965809277262),\n",
              " (329, 0.08164965809277262),\n",
              " (330, 0.08164965809277262),\n",
              " (332, 0.08164965809277262),\n",
              " (339, 0.08164965809277262),\n",
              " (356, 0.08164965809277262),\n",
              " (369, 0.08164965809277262),\n",
              " (370, 0.08164965809277262),\n",
              " (379, 0.08164965809277262),\n",
              " (486, 0.08164965809277262),\n",
              " (543, 0.08164965809277262),\n",
              " (572, 0.08164965809277262),\n",
              " (574, 0.08164965809277262),\n",
              " (618, 0.08164965809277262),\n",
              " (767, 0.08164965809277262),\n",
              " (799, 0.08164965809277262),\n",
              " (840, 0.08164965809277262),\n",
              " (844, 0.08164965809277262),\n",
              " (1027, 0.08164965809277262),\n",
              " (1094, 0.08164965809277262),\n",
              " (1103, 0.08164965809277262),\n",
              " (1131, 0.08164965809277262),\n",
              " (1139, 0.08164965809277262),\n",
              " (1213, 0.08164965809277262),\n",
              " (1450, 0.08164965809277262),\n",
              " (1517, 0.08164965809277262),\n",
              " (1542, 0.08164965809277262),\n",
              " (1543, 0.08164965809277262),\n",
              " (1652, 0.08164965809277262),\n",
              " (1669, 0.08164965809277262),\n",
              " (1787, 0.08164965809277262),\n",
              " (1995, 0.08164965809277262),\n",
              " (2089, 0.08164965809277262),\n",
              " (2195, 0.08164965809277262),\n",
              " (2200, 0.08164965809277262),\n",
              " (2204, 0.08164965809277262),\n",
              " (2285, 0.08164965809277262),\n",
              " (2529, 0.08164965809277262),\n",
              " (2621, 0.08164965809277262),\n",
              " (2685, 0.08164965809277262),\n",
              " (2704, 0.08164965809277262),\n",
              " (2731, 0.08164965809277262),\n",
              " (2805, 0.08164965809277262),\n",
              " (3046, 0.08164965809277262),\n",
              " (3165, 0.08164965809277262),\n",
              " (3251, 0.08164965809277262),\n",
              " (3348, 0.08164965809277262),\n",
              " (3507, 0.08164965809277262),\n",
              " (3593, 0.08164965809277262),\n",
              " (3815, 0.08164965809277262),\n",
              " (3928, 0.08164965809277262),\n",
              " (3951, 0.08164965809277262),\n",
              " (4119, 0.08164965809277262),\n",
              " (4175, 0.08164965809277262),\n",
              " (4497, 0.08164965809277262),\n",
              " (4670, 0.08164965809277262),\n",
              " (4724, 0.08164965809277262),\n",
              " (4772, 0.08164965809277262),\n",
              " (11, 0.08000000000000002),\n",
              " (50, 0.08000000000000002),\n",
              " (110, 0.08000000000000002),\n",
              " (168, 0.08000000000000002),\n",
              " (184, 0.08000000000000002),\n",
              " (232, 0.08000000000000002),\n",
              " (243, 0.08000000000000002),\n",
              " (248, 0.08000000000000002),\n",
              " (285, 0.08000000000000002),\n",
              " (472, 0.08000000000000002),\n",
              " (505, 0.08000000000000002),\n",
              " (691, 0.08000000000000002),\n",
              " (694, 0.08000000000000002),\n",
              " (719, 0.08000000000000002),\n",
              " (728, 0.08000000000000002),\n",
              " (911, 0.08000000000000002),\n",
              " (920, 0.08000000000000002),\n",
              " (982, 0.08000000000000002),\n",
              " (1050, 0.08000000000000002),\n",
              " (1073, 0.08000000000000002),\n",
              " (1100, 0.08000000000000002),\n",
              " (1137, 0.08000000000000002),\n",
              " (1165, 0.08000000000000002),\n",
              " (1181, 0.08000000000000002),\n",
              " (1239, 0.08000000000000002),\n",
              " (1293, 0.08000000000000002),\n",
              " (1625, 0.08000000000000002),\n",
              " (1802, 0.08000000000000002),\n",
              " (1946, 0.08000000000000002),\n",
              " (2003, 0.08000000000000002),\n",
              " (2156, 0.08000000000000002),\n",
              " (2163, 0.08000000000000002),\n",
              " (2218, 0.08000000000000002),\n",
              " (2265, 0.08000000000000002),\n",
              " (2354, 0.08000000000000002),\n",
              " (2377, 0.08000000000000002),\n",
              " (2388, 0.08000000000000002),\n",
              " (2527, 0.08000000000000002),\n",
              " (2536, 0.08000000000000002),\n",
              " (2640, 0.08000000000000002),\n",
              " (2657, 0.08000000000000002),\n",
              " (2681, 0.08000000000000002),\n",
              " (2726, 0.08000000000000002),\n",
              " (2829, 0.08000000000000002),\n",
              " (2949, 0.08000000000000002),\n",
              " (3035, 0.08000000000000002),\n",
              " (3040, 0.08000000000000002),\n",
              " (3391, 0.08000000000000002),\n",
              " (3430, 0.08000000000000002),\n",
              " (3603, 0.08000000000000002),\n",
              " (3604, 0.08000000000000002),\n",
              " (3619, 0.08000000000000002),\n",
              " (3635, 0.08000000000000002),\n",
              " (3734, 0.08000000000000002),\n",
              " (4573, 0.08000000000000002),\n",
              " (38, 0.07844645405527362),\n",
              " (39, 0.07844645405527362),\n",
              " (64, 0.07844645405527362),\n",
              " (196, 0.07844645405527362),\n",
              " (223, 0.07844645405527362),\n",
              " (295, 0.07844645405527362),\n",
              " (366, 0.07844645405527362),\n",
              " (624, 0.07844645405527362),\n",
              " (661, 0.07844645405527362),\n",
              " (668, 0.07844645405527362),\n",
              " (711, 0.07844645405527362),\n",
              " (768, 0.07844645405527362),\n",
              " (784, 0.07844645405527362),\n",
              " (810, 0.07844645405527362),\n",
              " (867, 0.07844645405527362),\n",
              " (873, 0.07844645405527362),\n",
              " (1008, 0.07844645405527362),\n",
              " (1036, 0.07844645405527362),\n",
              " (1119, 0.07844645405527362),\n",
              " (1140, 0.07844645405527362),\n",
              " (1152, 0.07844645405527362),\n",
              " (1230, 0.07844645405527362),\n",
              " (1334, 0.07844645405527362),\n",
              " (1513, 0.07844645405527362),\n",
              " (1523, 0.07844645405527362),\n",
              " (1573, 0.07844645405527362),\n",
              " (1686, 0.07844645405527362),\n",
              " (1753, 0.07844645405527362),\n",
              " (1795, 0.07844645405527362),\n",
              " (2019, 0.07844645405527362),\n",
              " (2046, 0.07844645405527362),\n",
              " (2181, 0.07844645405527362),\n",
              " (2229, 0.07844645405527362),\n",
              " (2435, 0.07844645405527362),\n",
              " (2524, 0.07844645405527362),\n",
              " (2558, 0.07844645405527362),\n",
              " (2633, 0.07844645405527362),\n",
              " (2759, 0.07844645405527362),\n",
              " (2802, 0.07844645405527362),\n",
              " (3003, 0.07844645405527362),\n",
              " (3073, 0.07844645405527362),\n",
              " (3136, 0.07844645405527362),\n",
              " (3309, 0.07844645405527362),\n",
              " (3334, 0.07844645405527362),\n",
              " (3382, 0.07844645405527362),\n",
              " (3470, 0.07844645405527362),\n",
              " (3770, 0.07844645405527362),\n",
              " (4642, 0.07844645405527362),\n",
              " (4798, 0.07844645405527362),\n",
              " (0, 0.07698003589195011),\n",
              " ...]"
            ]
          },
          "metadata": {},
          "execution_count": 62
        }
      ]
    },
    {
      "cell_type": "code",
      "source": [
        "num = int(input('Enter number of recommendation: '))\n"
      ],
      "metadata": {
        "colab": {
          "base_uri": "https://localhost:8080/"
        },
        "id": "emY0GzPkbpkd",
        "outputId": "49cf2b7f-c565-492f-8074-a81367c2da0f"
      },
      "execution_count": 65,
      "outputs": [
        {
          "name": "stdout",
          "output_type": "stream",
          "text": [
            "Enter number of recommendation: 10\n"
          ]
        }
      ]
    },
    {
      "cell_type": "code",
      "source": [
        "for movie in sorted_movies[:num]:\n",
        "  movie_name  = get_title(movie[0])\n",
        "  print(movie_name)"
      ],
      "metadata": {
        "colab": {
          "base_uri": "https://localhost:8080/"
        },
        "id": "v6o2-5YZbviH",
        "outputId": "62b102ef-d397-499d-dbba-9f958e4efcac"
      },
      "execution_count": 66,
      "outputs": [
        {
          "output_type": "stream",
          "name": "stdout",
          "text": [
            "Batman Returns\n",
            "Batman & Robin\n",
            "The Dark Knight Rises\n",
            "The Dark Knight\n",
            "Batman Begins\n",
            "The Sentinel\n",
            "Beetlejuice\n",
            "Jonah Hex\n",
            "Funny Games\n",
            "Superman\n"
          ]
        }
      ]
    }
  ]
}